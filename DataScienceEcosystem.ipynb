{
 "cells": [
  {
   "cell_type": "markdown",
   "id": "ca5d6365-1c52-437c-a389-e44b0546ac52",
   "metadata": {},
   "source": [
    "# Data Science Tools and Ecosystem"
   ]
  },
  {
   "cell_type": "markdown",
   "id": "41d887fd-80b3-4da0-98a5-1b808f691337",
   "metadata": {},
   "source": [
    "In this notebook, Data Science Tools and Ecosystem are summarized."
   ]
  },
  {
   "cell_type": "markdown",
   "id": "038ab56b-594e-4733-b1e1-142e274edafd",
   "metadata": {
    "jp-MarkdownHeadingCollapsed": true
   },
   "source": [
    "**Objectives:**\n",
    "* List popular languages for Data Science\n",
    "* List some libraries for Data Science\n",
    "* list open source data science environments\n"
   ]
  },
  {
   "cell_type": "markdown",
   "id": "95829846-bef2-4978-a11c-4b78a30d2778",
   "metadata": {},
   "source": [
    "Some of the popular languages that Data Scientists use are:\n",
    "1. Python\n",
    "2. R\n",
    "3. SQL\n",
    "4. Scala\n",
    "5. Java\n"
   ]
  },
  {
   "cell_type": "markdown",
   "id": "8e06748c-c6f5-4728-81a9-439f7f086d27",
   "metadata": {},
   "source": [
    "Some of the commonly used libraries used by Data Scientists include:\n",
    "1. Scikit-learn\n",
    "2. Pandas\n",
    "3. Numby\n",
    "4. Matplotlib\n",
    "5. Tensorflow\n"
   ]
  },
  {
   "cell_type": "markdown",
   "id": "dfbaeb7d-78fb-4746-809b-99a903b29620",
   "metadata": {},
   "source": [
    "| Data Science Tools |\n",
    "| -----|\n",
    "| JupyterLab|\n",
    "| RStudio|\n",
    "| Spyder|\n"
   ]
  },
  {
   "cell_type": "markdown",
   "id": "d4d1076f-aa8c-4c40-bad4-a01031a1510a",
   "metadata": {},
   "source": [
    "### Below are a few examples of evaluating arithmetic expressions in Python\n"
   ]
  },
  {
   "cell_type": "code",
   "execution_count": 6,
   "id": "e2c76892-6ead-4450-a6b0-e465272846c3",
   "metadata": {},
   "outputs": [
    {
     "data": {
      "text/plain": [
       "17"
      ]
     },
     "execution_count": 6,
     "metadata": {},
     "output_type": "execute_result"
    }
   ],
   "source": [
    "# This a simple arithmetic expression to mutiply then add integers\n",
    "(3*4)+5"
   ]
  },
  {
   "cell_type": "code",
   "execution_count": 7,
   "id": "9309f159-4f63-4914-a458-3047350b8a64",
   "metadata": {},
   "outputs": [
    {
     "data": {
      "text/plain": [
       "3.3333333333333335"
      ]
     },
     "execution_count": 7,
     "metadata": {},
     "output_type": "execute_result"
    }
   ],
   "source": [
    "# This will convert 200 minutes to hours by diving by 60\n",
    "200/60"
   ]
  },
  {
   "cell_type": "markdown",
   "id": "755652ab-2b97-4113-9b9d-387cef07bb7b",
   "metadata": {},
   "source": [
    "## Author\n",
    "Ivan Benetton"
   ]
  }
 ],
 "metadata": {
  "kernelspec": {
   "display_name": "Python 3 (ipykernel)",
   "language": "python",
   "name": "python3"
  },
  "language_info": {
   "codemirror_mode": {
    "name": "ipython",
    "version": 3
   },
   "file_extension": ".py",
   "mimetype": "text/x-python",
   "name": "python",
   "nbconvert_exporter": "python",
   "pygments_lexer": "ipython3",
   "version": "3.11.8"
  }
 },
 "nbformat": 4,
 "nbformat_minor": 5
}
